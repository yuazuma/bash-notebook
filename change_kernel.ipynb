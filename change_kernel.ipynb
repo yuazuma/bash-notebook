{
 "cells": [
  {
   "cell_type": "code",
   "execution_count": null,
   "id": "complete-expert",
   "metadata": {},
   "outputs": [],
   "source": [
    "!pip install bash_kernel\n",
    "!python -m bash_kernel.install"
   ]
  },
  {
   "cell_type": "code",
   "execution_count": 10,
   "id": "conventional-cannon",
   "metadata": {},
   "outputs": [
    {
     "name": "stdout",
     "output_type": "stream",
     "text": [
      "bash: fg: %%javascript: no such job\n",
      "bash: syntax error near unexpected token `{kernel_name:'\n",
      "jovyan\n"
     ]
    }
   ],
   "source": [
    "%%javascript\n",
    "Jupyter.notebook.session.restart({kernel_name: 'bash'})\n",
    "whoami"
   ]
  },
  {
   "cell_type": "code",
   "execution_count": 11,
   "id": "4bd76506-2f2f-4972-996e-77a8a9ffe1b8",
   "metadata": {},
   "outputs": [
    {
     "name": "stdout",
     "output_type": "stream",
     "text": [
      "/etc/debian_version:buster/sid\n",
      "grep: /etc/subversion: Is a directory\n",
      "/etc/lsb-release:DISTRIB_ID=Ubuntu\n",
      "/etc/lsb-release:DISTRIB_RELEASE=18.04\n",
      "/etc/lsb-release:DISTRIB_CODENAME=bionic\n",
      "/etc/lsb-release:DISTRIB_DESCRIPTION=\"Ubuntu 18.04.5 LTS\"\n",
      "/etc/os-release:NAME=\"Ubuntu\"\n",
      "/etc/os-release:VERSION=\"18.04.5 LTS (Bionic Beaver)\"\n",
      "/etc/os-release:ID=ubuntu\n",
      "/etc/os-release:ID_LIKE=debian\n",
      "/etc/os-release:PRETTY_NAME=\"Ubuntu 18.04.5 LTS\"\n",
      "/etc/os-release:VERSION_ID=\"18.04\"\n",
      "/etc/os-release:HOME_URL=\"https://www.ubuntu.com/\"\n",
      "/etc/os-release:SUPPORT_URL=\"https://help.ubuntu.com/\"\n",
      "/etc/os-release:BUG_REPORT_URL=\"https://bugs.launchpad.net/ubuntu/\"\n",
      "/etc/os-release:PRIVACY_POLICY_URL=\"https://www.ubuntu.com/legal/terms-and-policies/privacy-policy\"\n",
      "/etc/os-release:VERSION_CODENAME=bionic\n",
      "/etc/os-release:UBUNTU_CODENAME=bionic\n"
     ]
    }
   ],
   "source": [
    "grep -H \"\" /etc/*version ; grep -H \"\" /etc/*release"
   ]
  },
  {
   "cell_type": "code",
   "execution_count": 12,
   "id": "a0596808-da36-4e29-9fc9-686dd3b226f5",
   "metadata": {},
   "outputs": [
    {
     "name": "stdout",
     "output_type": "stream",
     "text": [
      "jupyter-yuazuma-2dbash-2dnotebook-2d1db86dkw\n"
     ]
    }
   ],
   "source": [
    "hostname"
   ]
  },
  {
   "cell_type": "code",
   "execution_count": 13,
   "id": "ff93c3db-e5d3-4255-990f-00138fdd4aa4",
   "metadata": {},
   "outputs": [
    {
     "name": "stdout",
     "output_type": "stream",
     "text": [
      "jovyan\n"
     ]
    }
   ],
   "source": [
    "whoami"
   ]
  },
  {
   "cell_type": "code",
   "execution_count": null,
   "id": "4b088e9e-5dd0-4150-a168-172ad10992aa",
   "metadata": {},
   "outputs": [],
   "source": [
    "sudo apt update -y && sudo apt install -y iproute2"
   ]
  },
  {
   "cell_type": "code",
   "execution_count": null,
   "id": "f595c410-6521-46a0-b34f-6e32b9c92908",
   "metadata": {},
   "outputs": [],
   "source": [
    "ip a"
   ]
  }
 ],
 "metadata": {
  "kernelspec": {
   "display_name": "Bash",
   "language": "bash",
   "name": "bash"
  },
  "language_info": {
   "codemirror_mode": "shell",
   "file_extension": ".sh",
   "mimetype": "text/x-sh",
   "name": "bash"
  }
 },
 "nbformat": 4,
 "nbformat_minor": 5
}
