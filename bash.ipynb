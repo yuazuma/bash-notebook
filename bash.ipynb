{
 "cells": [
  {
   "cell_type": "code",
   "execution_count": 1,
   "id": "4bd76506-2f2f-4972-996e-77a8a9ffe1b8",
   "metadata": {},
   "outputs": [
    {
     "output_type": "stream",
     "name": "stdout",
     "text": [
      "\u001b[35m\u001b[K/etc/debian_version\u001b[m\u001b[K\u001b[36m\u001b[K:\u001b[m\u001b[Kbullseye/sid\n",
      "\u001b[35m\u001b[K/etc/lsb-release\u001b[m\u001b[K\u001b[36m\u001b[K:\u001b[m\u001b[KDISTRIB_ID=Ubuntu\n",
      "\u001b[35m\u001b[K/etc/lsb-release\u001b[m\u001b[K\u001b[36m\u001b[K:\u001b[m\u001b[KDISTRIB_RELEASE=20.04\n",
      "\u001b[35m\u001b[K/etc/lsb-release\u001b[m\u001b[K\u001b[36m\u001b[K:\u001b[m\u001b[KDISTRIB_CODENAME=focal\n",
      "\u001b[35m\u001b[K/etc/lsb-release\u001b[m\u001b[K\u001b[36m\u001b[K:\u001b[m\u001b[KDISTRIB_DESCRIPTION=\"Ubuntu 20.04.2 LTS\"\n",
      "\u001b[35m\u001b[K/etc/os-release\u001b[m\u001b[K\u001b[36m\u001b[K:\u001b[m\u001b[KNAME=\"Ubuntu\"\n",
      "\u001b[35m\u001b[K/etc/os-release\u001b[m\u001b[K\u001b[36m\u001b[K:\u001b[m\u001b[KVERSION=\"20.04.2 LTS (Focal Fossa)\"\n",
      "\u001b[35m\u001b[K/etc/os-release\u001b[m\u001b[K\u001b[36m\u001b[K:\u001b[m\u001b[KID=ubuntu\n",
      "\u001b[35m\u001b[K/etc/os-release\u001b[m\u001b[K\u001b[36m\u001b[K:\u001b[m\u001b[KID_LIKE=debian\n",
      "\u001b[35m\u001b[K/etc/os-release\u001b[m\u001b[K\u001b[36m\u001b[K:\u001b[m\u001b[KPRETTY_NAME=\"Ubuntu 20.04.2 LTS\"\n",
      "\u001b[35m\u001b[K/etc/os-release\u001b[m\u001b[K\u001b[36m\u001b[K:\u001b[m\u001b[KVERSION_ID=\"20.04\"\n",
      "\u001b[35m\u001b[K/etc/os-release\u001b[m\u001b[K\u001b[36m\u001b[K:\u001b[m\u001b[KHOME_URL=\"https://www.ubuntu.com/\"\n",
      "\u001b[35m\u001b[K/etc/os-release\u001b[m\u001b[K\u001b[36m\u001b[K:\u001b[m\u001b[KSUPPORT_URL=\"https://help.ubuntu.com/\"\n",
      "\u001b[35m\u001b[K/etc/os-release\u001b[m\u001b[K\u001b[36m\u001b[K:\u001b[m\u001b[KBUG_REPORT_URL=\"https://bugs.launchpad.net/ubuntu/\"\n",
      "\u001b[35m\u001b[K/etc/os-release\u001b[m\u001b[K\u001b[36m\u001b[K:\u001b[m\u001b[KPRIVACY_POLICY_URL=\"https://www.ubuntu.com/legal/terms-and-policies/privacy-policy\"\n",
      "\u001b[35m\u001b[K/etc/os-release\u001b[m\u001b[K\u001b[36m\u001b[K:\u001b[m\u001b[KVERSION_CODENAME=focal\n",
      "\u001b[35m\u001b[K/etc/os-release\u001b[m\u001b[K\u001b[36m\u001b[K:\u001b[m\u001b[KUBUNTU_CODENAME=focal\n"
     ]
    }
   ],
   "source": [
    "grep -H \"\" /etc/*version ; grep -H \"\" /etc/*release"
   ]
  },
  {
   "cell_type": "code",
   "execution_count": 2,
   "id": "a0596808-da36-4e29-9fc9-686dd3b226f5",
   "metadata": {},
   "outputs": [
    {
     "output_type": "stream",
     "name": "stdout",
     "text": [
      "9f001da751e3\n"
     ]
    }
   ],
   "source": [
    "hostname"
   ]
  },
  {
   "cell_type": "code",
   "execution_count": 3,
   "id": "ff93c3db-e5d3-4255-990f-00138fdd4aa4",
   "metadata": {},
   "outputs": [
    {
     "output_type": "stream",
     "name": "stdout",
     "text": [
      "jovyan\n"
     ]
    }
   ],
   "source": [
    "whoami"
   ]
  },
  {
   "cell_type": "code",
   "execution_count": 4,
   "id": "4b088e9e-5dd0-4150-a168-172ad10992aa",
   "metadata": {},
   "outputs": [
    {
     "output_type": "stream",
     "name": "stdout",
     "text": [
      "Hit:1 http://security.ubuntu.com/ubuntu focal-security InRelease\n",
      "Hit:2 http://archive.ubuntu.com/ubuntu focal InRelease\n",
      "Hit:3 http://archive.ubuntu.com/ubuntu focal-updates InRelease\n",
      "Hit:4 http://archive.ubuntu.com/ubuntu focal-backports InRelease\n",
      "Reading package lists... Done\n",
      "Building dependency tree       \n",
      "Reading state information... Done\n",
      "11 packages can be upgraded. Run 'apt list --upgradable' to see them.\n",
      "Reading package lists... Done\n",
      "Building dependency tree       \n",
      "Reading state information... Done\n",
      "iproute2 is already the newest version (5.5.0-1ubuntu1).\n",
      "0 upgraded, 0 newly installed, 0 to remove and 11 not upgraded.\n"
     ]
    }
   ],
   "source": [
    "sudo apt update -y && sudo apt install -y iproute2"
   ]
  },
  {
   "cell_type": "code",
   "execution_count": 5,
   "id": "f595c410-6521-46a0-b34f-6e32b9c92908",
   "metadata": {},
   "outputs": [
    {
     "output_type": "stream",
     "name": "stdout",
     "text": [
      "1: lo: <LOOPBACK,UP,LOWER_UP> mtu 65536 qdisc noqueue state UNKNOWN group default qlen 1000\n",
      "    link/loopback 00:00:00:00:00:00 brd 00:00:00:00:00:00\n",
      "    inet 127.0.0.1/8 scope host lo\n",
      "       valid_lft forever preferred_lft forever\n",
      "2: sit0@NONE: <NOARP> mtu 1480 qdisc noop state DOWN group default qlen 1000\n",
      "    link/sit 0.0.0.0 brd 0.0.0.0\n",
      "8: eth0@if9: <BROADCAST,MULTICAST,UP,LOWER_UP> mtu 1500 qdisc noqueue state UP group default \n",
      "    link/ether 02:42:ac:11:00:02 brd ff:ff:ff:ff:ff:ff link-netnsid 0\n",
      "    inet 172.17.0.2/16 brd 172.17.255.255 scope global eth0\n",
      "       valid_lft forever preferred_lft forever\n"
     ]
    }
   ],
   "source": [
    "ip a"
   ]
  },
  {
   "cell_type": "code",
   "execution_count": null,
   "metadata": {},
   "outputs": [],
   "source": []
  }
 ],
 "metadata": {
  "kernelspec": {
   "display_name": "Bash",
   "language": "bash",
   "name": "bash"
  },
  "language_info": {
   "codemirror_mode": "shell",
   "file_extension": ".sh",
   "mimetype": "text/x-sh",
   "name": "bash"
  }
 },
 "nbformat": 4,
 "nbformat_minor": 5
}